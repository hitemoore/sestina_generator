{
 "cells": [
  {
   "cell_type": "code",
   "execution_count": 1,
   "id": "blessed-dietary",
   "metadata": {},
   "outputs": [],
   "source": [
    "import warnings\n",
    "warnings.filterwarnings('ignore')\n",
    "from textgenrnn import textgenrnn\n",
    "import syllapy"
   ]
  },
  {
   "cell_type": "markdown",
   "id": "silver-librarian",
   "metadata": {},
   "source": [
    "Download poetry collection to insert some culture into this model"
   ]
  },
  {
   "cell_type": "code",
   "execution_count": 2,
   "id": "fixed-albany",
   "metadata": {},
   "outputs": [
    {
     "name": "stdout",
     "output_type": "stream",
     "text": [
      "  % Total    % Received % Xferd  Average Speed   Time    Time     Time  Current\n",
      "                                 Dload  Upload   Total   Spent    Left  Speed\n",
      "100 52.2M  100 52.2M    0     0  40.3M      0  0:00:01  0:00:01 --:--:-- 40.3M\n"
     ]
    }
   ],
   "source": [
    "download_fn = 'poetry.ndjson.gz'\n",
    "! mkdir -p data\n",
    "! rm -f data/$download_fn\n",
    "! curl -o data/$download_fn http://static.decontextualize.com/gutenberg-poetry-v001.ndjson.gz"
   ]
  },
  {
   "cell_type": "code",
   "execution_count": 3,
   "id": "passing-picking",
   "metadata": {},
   "outputs": [],
   "source": [
    "poetry_fn = download_fn.replace('.gz', '')\n",
    "! rm -f data/$poetry_fn\n",
    "! gzip -d data/$download_fn"
   ]
  },
  {
   "cell_type": "code",
   "execution_count": 4,
   "id": "convinced-billy",
   "metadata": {},
   "outputs": [],
   "source": [
    "long_fn = 'poetry.txt'\n",
    "short_fn = 'poetry_short.txt'\n",
    "with open(f'data/{poetry_fn}', 'r') as infile, open(f'data/{long_fn}', 'w') as outfile:\n",
    "    for line in infile:\n",
    "        nice_text = line.replace('{\"s\": \"', '').split('\", \"gid\"')[0].replace('\\\\', '')\n",
    "        outfile.write(nice_text + '\\n')\n",
    "! shuf data/$long_fn -n 10000 > data/$short_fn"
   ]
  },
  {
   "cell_type": "markdown",
   "id": "apart-rugby",
   "metadata": {},
   "source": [
    "Train RNN on subset of poetry"
   ]
  },
  {
   "cell_type": "code",
   "execution_count": 5,
   "id": "flying-delight",
   "metadata": {},
   "outputs": [
    {
     "name": "stdout",
     "output_type": "stream",
     "text": [
      "10,000 texts collected.\n",
      "Training on 396,486 character sequences.\n",
      "3097/3097 [==============================] - 437s 140ms/step - loss: 1.8346\n",
      "####################\n",
      "Temperature: 0.2\n",
      "####################\n",
      "The sun sets on the edge of the sea\n",
      "\n",
      "Red, yellow, purple races across the horizon\n",
      "\n",
      "A gentle breeze kisses your long blonde hair,\n",
      "\n",
      "####################\n",
      "Temperature: 0.5\n",
      "####################\n",
      "Setting ablaze a sweet flame\n",
      "\n",
      "The blue of the ocean no match for your eyes,\n",
      "\n",
      "A salty kiss on your glimmering lips,\n",
      "\n",
      "####################\n",
      "Temperature: 1.0\n",
      "####################\n",
      "The warm sand races to kiss your toes?\n",
      "\n",
      "And I stand helpless in you I drown,\n",
      "\n",
      "The sound of silence does surround,\n",
      "\n"
     ]
    }
   ],
   "source": [
    "textgen = textgenrnn()\n",
    "textgen.train_from_file(f'data/{short_fn}', num_epochs=1)"
   ]
  },
  {
   "cell_type": "markdown",
   "id": "interracial-taiwan",
   "metadata": {},
   "source": [
    "Generate random lines of poetry and keep those with a reasonable number of syllables"
   ]
  },
  {
   "cell_type": "code",
   "execution_count": 6,
   "id": "fleet-cache",
   "metadata": {},
   "outputs": [
    {
     "name": "stderr",
     "output_type": "stream",
     "text": [
      "100%|██████████| 100/100 [03:42<00:00,  2.23s/it]\n"
     ]
    }
   ],
   "source": [
    "a = textgen.generate(100, temperature=0.5, return_as_list=True)"
   ]
  },
  {
   "cell_type": "code",
   "execution_count": 7,
   "id": "exterior-palestine",
   "metadata": {},
   "outputs": [],
   "source": [
    "l_filtered = []\n",
    "for l in a:\n",
    "    length = syllapy.count(l)\n",
    "    if 8 <= length <= 12:\n",
    "        l_filtered.append(l)"
   ]
  },
  {
   "cell_type": "code",
   "execution_count": 8,
   "id": "wooden-genesis",
   "metadata": {},
   "outputs": [],
   "source": [
    "class Poem:\n",
    "    def __init__(self, lines):\n",
    "        '''https://en.wikipedia.org/wiki/Sestina'''\n",
    "        assert isinstance(lines, list)\n",
    "        assert len(lines) >= 39\n",
    "        \n",
    "        self.end_words = {i:'' for i in range(6)}\n",
    "        \n",
    "        # I subtract 1 from each word index to be consistent with python's\n",
    "        # zero-based indexing, but I start with the 1-based to be consistent with \n",
    "        # wikipedia documentation\n",
    "        self.rotation = [6, 1, 5, 2, 4, 3, \\\n",
    "                         3, 6, 4, 1, 2, 5, \\\n",
    "                         5, 3, 2, 6, 1, 4, \\\n",
    "                         4, 5, 1, 3, 6, 2, \\\n",
    "                         2, 4, 6, 5, 3, 1]\n",
    "        self.rotation = [x - 1 for x in self.rotation]\n",
    "        self.envoi = [(6, 2), (1, 4), (5, 3)]\n",
    "        self.envoi = [(t[0]-1, t[1]-1) for t in self.envoi]\n",
    "        \n",
    "        self.sestina = []\n",
    "        self.get_end_words(lines[:6])\n",
    "        self.replace_last_words(lines[6:36])\n",
    "        self.compose_envoi(lines[36:39])\n",
    "    \n",
    "    def get_end_words(self, first_6_lines):\n",
    "        assert len(first_6_lines) == 6\n",
    "        for i, line in enumerate(first_6_lines):\n",
    "            self.end_words[i] = line.split()[-1]\n",
    "        self.sestina.extend(first_6_lines)\n",
    "    \n",
    "    def replace_last_words(self, middle_lines):\n",
    "        assert len(middle_lines) == 30\n",
    "        for i, line in enumerate(middle_lines):\n",
    "            word_i = self.rotation[i]\n",
    "            new_line = line.split()[:-1] + [self.end_words[word_i]]\n",
    "            self.sestina.append(' '.join(new_line))\n",
    "    \n",
    "    def compose_envoi(self, last_lines):\n",
    "        assert len(last_lines) == 3\n",
    "        for i, line in enumerate(last_lines):\n",
    "            pts = line.split()[:-1]\n",
    "            half = len(pts) // 2\n",
    "            etpl = self.envoi[i]\n",
    "            new_line = pts[:(half-1)] + [self.end_words[etpl[0]]] + \\\n",
    "                       pts[half:-1] + [self.end_words[etpl[1]]]\n",
    "            self.sestina.append(' '.join(new_line))\n",
    "    \n",
    "    def recite(self):\n",
    "        for i, line in enumerate(self.sestina):\n",
    "            print(line)\n",
    "            if (i+1)%6 == 0 and i > 0:\n",
    "                print()\n"
   ]
  },
  {
   "cell_type": "code",
   "execution_count": 9,
   "id": "equal-advisory",
   "metadata": {},
   "outputs": [
    {
     "name": "stdout",
     "output_type": "stream",
     "text": [
      "And silver who told the mouthes;\n",
      "And the clothed black strive his book\n",
      "What son who were not all the gain word sea,\n",
      "And folk of just the live the constran thought,\n",
      "Same, once of the gold of fair,\n",
      "And the lets he had been believed.\n",
      "\n",
      "And some who beat the son of the believed.\n",
      "The cold should go and hand of the mouthes;\n",
      "Though the which fille the breather of the fair,\n",
      "To the fild seas, the crime of the book\n",
      "And made it the second through the old thought,\n",
      "And do the bear silves; and sea,\n",
      "\n",
      "And the water disparking bear the sea,\n",
      "And a flight swind of the believed.\n",
      "And words on the shame the rcought of the thought,\n",
      "And all the mountains of the mouthes;\n",
      "You might the rock of the arming book\n",
      "And the glory thought brook to the fair,\n",
      "\n",
      "Is the deflisting time of all fair,\n",
      "The band showed he old brooks the sea,\n",
      "And the boneves her door of the book\n",
      "And who worth the rest heart, the crime of the believed.\n",
      "One look the sumbers of the mouthes;\n",
      "That the sings were blooms the low strokes thought,\n",
      "\n",
      "The war he brothed the love of the thought,\n",
      "One of the monsters of the fair,\n",
      "To heard the bear through a filler do the mouthes;\n",
      "When the torchant ever heart the sea,\n",
      "The born of a sing art some let me the believed.\n",
      "Which have the mountain, of the book\n",
      "\n",
      "And though a both of the book\n",
      "The body saful bear in the old thought,\n",
      "And the both of the books of my long believed.\n",
      "And revess in the both thoughts of fair,\n",
      "And field the prible of his sea,\n",
      "Seeth the both shall be the mouthes;\n",
      "\n",
      "And who believed. the dimed book\n",
      "In that of mouthes; some songs and heart thought,\n",
      "So bore fair, courses the look sea,\n"
     ]
    }
   ],
   "source": [
    "p = Poem(l_filtered)\n",
    "p.recite()"
   ]
  }
 ],
 "metadata": {
  "kernelspec": {
   "display_name": "Python 3",
   "language": "python",
   "name": "python3"
  },
  "language_info": {
   "codemirror_mode": {
    "name": "ipython",
    "version": 3
   },
   "file_extension": ".py",
   "mimetype": "text/x-python",
   "name": "python",
   "nbconvert_exporter": "python",
   "pygments_lexer": "ipython3",
   "version": "3.8.6"
  }
 },
 "nbformat": 4,
 "nbformat_minor": 5
}
